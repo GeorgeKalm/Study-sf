{
 "cells": [
  {
   "cell_type": "code",
   "execution_count": 1033,
   "metadata": {
    "_cell_guid": "b1076dfc-b9ad-4769-8c92-a6c4dae69d19",
    "_uuid": "8f2839f25d086af736a60e9eeb907d3b93b6e0e5",
    "colab": {},
    "colab_type": "code",
    "id": "U2D2gTdJVp90"
   },
   "outputs": [],
   "source": [
    "import numpy as np\n",
    "import pandas as pd\n",
    "import seaborn as sns\n",
    "import matplotlib.pyplot as plt\n",
    "from collections import Counter"
   ]
  },
  {
   "cell_type": "code",
   "execution_count": 1034,
   "metadata": {
    "_cell_guid": "79c7e3d0-c299-4dcb-8224-4455121ee9b0",
    "_uuid": "d629ff2d2480ee46fbb7e2d37f6b5fab8052498a",
    "colab": {},
    "colab_type": "code",
    "id": "oyGfxL3eVp9-"
   },
   "outputs": [
    {
     "data": {
      "text/html": [
       "<div>\n",
       "<style scoped>\n",
       "    .dataframe tbody tr th:only-of-type {\n",
       "        vertical-align: middle;\n",
       "    }\n",
       "\n",
       "    .dataframe tbody tr th {\n",
       "        vertical-align: top;\n",
       "    }\n",
       "\n",
       "    .dataframe thead th {\n",
       "        text-align: right;\n",
       "    }\n",
       "</style>\n",
       "<table border=\"1\" class=\"dataframe\">\n",
       "  <thead>\n",
       "    <tr style=\"text-align: right;\">\n",
       "      <th></th>\n",
       "      <th>imdb_id</th>\n",
       "      <th>budget</th>\n",
       "      <th>revenue</th>\n",
       "      <th>original_title</th>\n",
       "      <th>cast</th>\n",
       "      <th>director</th>\n",
       "      <th>tagline</th>\n",
       "      <th>overview</th>\n",
       "      <th>runtime</th>\n",
       "      <th>genres</th>\n",
       "      <th>production_companies</th>\n",
       "      <th>release_date</th>\n",
       "      <th>vote_average</th>\n",
       "      <th>release_year</th>\n",
       "    </tr>\n",
       "  </thead>\n",
       "  <tbody>\n",
       "    <tr>\n",
       "      <th>301</th>\n",
       "      <td>tt1130080</td>\n",
       "      <td>22000000</td>\n",
       "      <td>35424826</td>\n",
       "      <td>The Informant!</td>\n",
       "      <td>Matt Damon|Scott Bakula|Joel McHale|Melanie Ly...</td>\n",
       "      <td>Steven Soderbergh</td>\n",
       "      <td>Based on a tattle-tale.</td>\n",
       "      <td>A rising star at agri-industry giant Archer Da...</td>\n",
       "      <td>108</td>\n",
       "      <td>Comedy|Crime|Drama|Thriller</td>\n",
       "      <td>Section Eight|Groundswell Productions|Warner B...</td>\n",
       "      <td>9/18/2009</td>\n",
       "      <td>6.0</td>\n",
       "      <td>2009</td>\n",
       "    </tr>\n",
       "    <tr>\n",
       "      <th>1500</th>\n",
       "      <td>tt0422295</td>\n",
       "      <td>16800000</td>\n",
       "      <td>2281089</td>\n",
       "      <td>Fur: An Imaginary Portrait of Diane Arbus</td>\n",
       "      <td>Nicole Kidman|Robert Downey Jr.|Ty Burrell|Har...</td>\n",
       "      <td>Steven Shainberg</td>\n",
       "      <td>A love story.</td>\n",
       "      <td>In 1958 New York Diane Arbus is a housewife an...</td>\n",
       "      <td>122</td>\n",
       "      <td>Drama|Mystery|Romance</td>\n",
       "      <td>River Road Entertainment|Edward R. Pressman Fi...</td>\n",
       "      <td>8/30/2006</td>\n",
       "      <td>6.3</td>\n",
       "      <td>2006</td>\n",
       "    </tr>\n",
       "    <tr>\n",
       "      <th>1589</th>\n",
       "      <td>tt0346156</td>\n",
       "      <td>70000000</td>\n",
       "      <td>57958696</td>\n",
       "      <td>Sky Captain and the World of Tomorrow</td>\n",
       "      <td>Jude Law|Gwyneth Paltrow|Giovanni Ribisi|Angel...</td>\n",
       "      <td>Kerry Conran</td>\n",
       "      <td>Who will save us?</td>\n",
       "      <td>When gigantic robots attack New York City, \"Sk...</td>\n",
       "      <td>107</td>\n",
       "      <td>Mystery|Action|Thriller|Science Fiction|Adventure</td>\n",
       "      <td>Paramount Pictures|Natural Nylon Entertainment...</td>\n",
       "      <td>9/17/2004</td>\n",
       "      <td>5.7</td>\n",
       "      <td>2004</td>\n",
       "    </tr>\n",
       "    <tr>\n",
       "      <th>104</th>\n",
       "      <td>tt3623726</td>\n",
       "      <td>18000000</td>\n",
       "      <td>41325328</td>\n",
       "      <td>Ricki and the Flash</td>\n",
       "      <td>Meryl Streep|Kevin Kline|Mamie Gummer|Sebastia...</td>\n",
       "      <td>Jonathan Demme</td>\n",
       "      <td>Get Ready for Ricki.</td>\n",
       "      <td>Meryl Streep stars as Ricki Rendazzo, a guitar...</td>\n",
       "      <td>100</td>\n",
       "      <td>Comedy|Drama|Music</td>\n",
       "      <td>Columbia TriStar|Clinica Estetico|LStar Capital</td>\n",
       "      <td>7/10/2015</td>\n",
       "      <td>5.5</td>\n",
       "      <td>2015</td>\n",
       "    </tr>\n",
       "    <tr>\n",
       "      <th>675</th>\n",
       "      <td>tt1034303</td>\n",
       "      <td>32000000</td>\n",
       "      <td>51155219</td>\n",
       "      <td>Defiance</td>\n",
       "      <td>Daniel Craig|Liev Schreiber|Jamie Bell|Alexa D...</td>\n",
       "      <td>Edward Zwick</td>\n",
       "      <td>Freedom begins with an act of defiance!</td>\n",
       "      <td>Based on a true story, during World War II, fo...</td>\n",
       "      <td>137</td>\n",
       "      <td>Action|Drama|History|War</td>\n",
       "      <td>Paramount Vantage|Grosvenor Park Productions|B...</td>\n",
       "      <td>12/31/2008</td>\n",
       "      <td>6.6</td>\n",
       "      <td>2008</td>\n",
       "    </tr>\n",
       "  </tbody>\n",
       "</table>\n",
       "</div>"
      ],
      "text/plain": [
       "        imdb_id    budget   revenue  \\\n",
       "301   tt1130080  22000000  35424826   \n",
       "1500  tt0422295  16800000   2281089   \n",
       "1589  tt0346156  70000000  57958696   \n",
       "104   tt3623726  18000000  41325328   \n",
       "675   tt1034303  32000000  51155219   \n",
       "\n",
       "                                 original_title  \\\n",
       "301                              The Informant!   \n",
       "1500  Fur: An Imaginary Portrait of Diane Arbus   \n",
       "1589      Sky Captain and the World of Tomorrow   \n",
       "104                         Ricki and the Flash   \n",
       "675                                    Defiance   \n",
       "\n",
       "                                                   cast           director  \\\n",
       "301   Matt Damon|Scott Bakula|Joel McHale|Melanie Ly...  Steven Soderbergh   \n",
       "1500  Nicole Kidman|Robert Downey Jr.|Ty Burrell|Har...   Steven Shainberg   \n",
       "1589  Jude Law|Gwyneth Paltrow|Giovanni Ribisi|Angel...       Kerry Conran   \n",
       "104   Meryl Streep|Kevin Kline|Mamie Gummer|Sebastia...     Jonathan Demme   \n",
       "675   Daniel Craig|Liev Schreiber|Jamie Bell|Alexa D...       Edward Zwick   \n",
       "\n",
       "                                      tagline  \\\n",
       "301                   Based on a tattle-tale.   \n",
       "1500                            A love story.   \n",
       "1589                        Who will save us?   \n",
       "104                      Get Ready for Ricki.   \n",
       "675   Freedom begins with an act of defiance!   \n",
       "\n",
       "                                               overview  runtime  \\\n",
       "301   A rising star at agri-industry giant Archer Da...      108   \n",
       "1500  In 1958 New York Diane Arbus is a housewife an...      122   \n",
       "1589  When gigantic robots attack New York City, \"Sk...      107   \n",
       "104   Meryl Streep stars as Ricki Rendazzo, a guitar...      100   \n",
       "675   Based on a true story, during World War II, fo...      137   \n",
       "\n",
       "                                                 genres  \\\n",
       "301                         Comedy|Crime|Drama|Thriller   \n",
       "1500                              Drama|Mystery|Romance   \n",
       "1589  Mystery|Action|Thriller|Science Fiction|Adventure   \n",
       "104                                  Comedy|Drama|Music   \n",
       "675                            Action|Drama|History|War   \n",
       "\n",
       "                                   production_companies release_date  \\\n",
       "301   Section Eight|Groundswell Productions|Warner B...    9/18/2009   \n",
       "1500  River Road Entertainment|Edward R. Pressman Fi...    8/30/2006   \n",
       "1589  Paramount Pictures|Natural Nylon Entertainment...    9/17/2004   \n",
       "104     Columbia TriStar|Clinica Estetico|LStar Capital    7/10/2015   \n",
       "675   Paramount Vantage|Grosvenor Park Productions|B...   12/31/2008   \n",
       "\n",
       "      vote_average  release_year  \n",
       "301            6.0          2009  \n",
       "1500           6.3          2006  \n",
       "1589           5.7          2004  \n",
       "104            5.5          2015  \n",
       "675            6.6          2008  "
      ]
     },
     "execution_count": 1034,
     "metadata": {},
     "output_type": "execute_result"
    }
   ],
   "source": [
    "data = pd.read_csv('movie_bd_v5.xls')\n",
    "data.sample(5)"
   ]
  },
  {
   "cell_type": "code",
   "execution_count": 1035,
   "metadata": {
    "colab": {},
    "colab_type": "code",
    "id": "CoYUnagMVp-C"
   },
   "outputs": [
    {
     "data": {
      "text/html": [
       "<div>\n",
       "<style scoped>\n",
       "    .dataframe tbody tr th:only-of-type {\n",
       "        vertical-align: middle;\n",
       "    }\n",
       "\n",
       "    .dataframe tbody tr th {\n",
       "        vertical-align: top;\n",
       "    }\n",
       "\n",
       "    .dataframe thead th {\n",
       "        text-align: right;\n",
       "    }\n",
       "</style>\n",
       "<table border=\"1\" class=\"dataframe\">\n",
       "  <thead>\n",
       "    <tr style=\"text-align: right;\">\n",
       "      <th></th>\n",
       "      <th>budget</th>\n",
       "      <th>revenue</th>\n",
       "      <th>runtime</th>\n",
       "      <th>vote_average</th>\n",
       "      <th>release_year</th>\n",
       "    </tr>\n",
       "  </thead>\n",
       "  <tbody>\n",
       "    <tr>\n",
       "      <th>count</th>\n",
       "      <td>1.889000e+03</td>\n",
       "      <td>1.889000e+03</td>\n",
       "      <td>1889.000000</td>\n",
       "      <td>1889.000000</td>\n",
       "      <td>1889.000000</td>\n",
       "    </tr>\n",
       "    <tr>\n",
       "      <th>mean</th>\n",
       "      <td>5.431083e+07</td>\n",
       "      <td>1.553653e+08</td>\n",
       "      <td>109.658549</td>\n",
       "      <td>6.140762</td>\n",
       "      <td>2007.860773</td>\n",
       "    </tr>\n",
       "    <tr>\n",
       "      <th>std</th>\n",
       "      <td>4.858721e+07</td>\n",
       "      <td>2.146698e+08</td>\n",
       "      <td>18.017041</td>\n",
       "      <td>0.764763</td>\n",
       "      <td>4.468841</td>\n",
       "    </tr>\n",
       "    <tr>\n",
       "      <th>min</th>\n",
       "      <td>5.000000e+06</td>\n",
       "      <td>2.033165e+06</td>\n",
       "      <td>63.000000</td>\n",
       "      <td>3.300000</td>\n",
       "      <td>2000.000000</td>\n",
       "    </tr>\n",
       "    <tr>\n",
       "      <th>25%</th>\n",
       "      <td>2.000000e+07</td>\n",
       "      <td>3.456058e+07</td>\n",
       "      <td>97.000000</td>\n",
       "      <td>5.600000</td>\n",
       "      <td>2004.000000</td>\n",
       "    </tr>\n",
       "    <tr>\n",
       "      <th>50%</th>\n",
       "      <td>3.800000e+07</td>\n",
       "      <td>8.361541e+07</td>\n",
       "      <td>107.000000</td>\n",
       "      <td>6.100000</td>\n",
       "      <td>2008.000000</td>\n",
       "    </tr>\n",
       "    <tr>\n",
       "      <th>75%</th>\n",
       "      <td>7.200000e+07</td>\n",
       "      <td>1.782626e+08</td>\n",
       "      <td>120.000000</td>\n",
       "      <td>6.600000</td>\n",
       "      <td>2012.000000</td>\n",
       "    </tr>\n",
       "    <tr>\n",
       "      <th>max</th>\n",
       "      <td>3.800000e+08</td>\n",
       "      <td>2.781506e+09</td>\n",
       "      <td>214.000000</td>\n",
       "      <td>8.100000</td>\n",
       "      <td>2015.000000</td>\n",
       "    </tr>\n",
       "  </tbody>\n",
       "</table>\n",
       "</div>"
      ],
      "text/plain": [
       "             budget       revenue      runtime  vote_average  release_year\n",
       "count  1.889000e+03  1.889000e+03  1889.000000   1889.000000   1889.000000\n",
       "mean   5.431083e+07  1.553653e+08   109.658549      6.140762   2007.860773\n",
       "std    4.858721e+07  2.146698e+08    18.017041      0.764763      4.468841\n",
       "min    5.000000e+06  2.033165e+06    63.000000      3.300000   2000.000000\n",
       "25%    2.000000e+07  3.456058e+07    97.000000      5.600000   2004.000000\n",
       "50%    3.800000e+07  8.361541e+07   107.000000      6.100000   2008.000000\n",
       "75%    7.200000e+07  1.782626e+08   120.000000      6.600000   2012.000000\n",
       "max    3.800000e+08  2.781506e+09   214.000000      8.100000   2015.000000"
      ]
     },
     "execution_count": 1035,
     "metadata": {},
     "output_type": "execute_result"
    }
   ],
   "source": [
    "data.describe()"
   ]
  },
  {
   "cell_type": "markdown",
   "metadata": {
    "colab_type": "text",
    "id": "DTIt7ezGVp-G"
   },
   "source": [
    "# Предобработка"
   ]
  },
  {
   "cell_type": "code",
   "execution_count": 1036,
   "metadata": {
    "colab": {},
    "colab_type": "code",
    "id": "jNb40DwKVp-H"
   },
   "outputs": [],
   "source": [
    "answers = {} # создадим словарь для ответов\n",
    "\n",
    "data['release_date'] = pd.to_datetime(data['release_date']) \n",
    "# перевод значений столбца с датами в формат \"datatime\"\n",
    "\n",
    "\n",
    "def convert_to_seasons(datetime):\n",
    "    '''Функция для конвертации значения datetime в значение времени года'''\n",
    "    if datetime.month in [12,1,2]:\n",
    "        return 'winter'\n",
    "    \n",
    "    if datetime.month in [3,4,5]:\n",
    "        return 'spring'\n",
    "    \n",
    "    if datetime.month in [6,7,8]:\n",
    "        return 'summer'\n",
    "    \n",
    "    if datetime.month in [9,10,11]:\n",
    "        return 'fall'\n",
    "    return 'unknown'\n",
    "\n",
    "\n",
    "# Для разных задач потребуется создание дополнительных столбцов:\n",
    "data['profit'] = data['revenue'] - data['budget'] \n",
    "# создадим столбец, отражающий прибыль(убытки) каждого фильма\n",
    "data['director_col'] = data.director.str.split('|')\n",
    "# создаем столбец с помощью преобразования \n",
    "# строки с режиссерами фильма в список режиссеров фильма\n",
    "data['date_seasons'] = data['release_date'].apply(convert_to_seasons, convert_dtype=True)\n",
    "# создаем столбец, отражающий время года выхода фильма на экран\n",
    "data['cast_col'] = data['cast'].str.split('|')\n",
    "# создаем столбец с помощью преобразования строки \n",
    "# с актерами из фильма в список актеров из фильма\n",
    "data['production_col'] = data['production_companies'].str.split('|')\n",
    "# создаем столбец с помощью преобразования строки \n",
    "# со студиями фильма в список студий фильма \n",
    "data['original_title_len'] = data['original_title'].apply(len, convert_dtype=True)\n",
    "# создаем столбец, отражающий количество символов в названии фильма\n",
    "data['overview_words'] = data['overview'].apply(lambda x: len(x.split(' ')))\n",
    "# создаем столбец, отражающий количество слов в описании фильма\n",
    "\n",
    "  \n",
    "def transform_nesting(nested_lists, list_values=[]):\n",
    "    '''Функция для конвертации 2-х столбцов DataFrame, \n",
    "    в одном из которых — список значений, \n",
    "    во втором — связанные с 1 столбцом значения в серию,\n",
    "    где индексы — сгруппированные данные из всех списков 1 столбца,\n",
    "    а значения — просуммированные в соответствии с группировкой значения 2 столбца.\n",
    "    Eсли параметр 2го столбца в функцию не был передан, \n",
    "    его заменяем на столбец со значениями : 1 '''\n",
    "    \n",
    "    if len(list_values) == 0: \n",
    "        list_values = [1 for i in range(0, len(nested_lists))]\n",
    "    count = 0  # чтобы не \"потерять\" соответствие между 1 и 2 столбцом\n",
    "    new_dict = {}  # для нужного нам группирования значений используем словарь\n",
    "    \n",
    "    for n_list in nested_lists: # \"раскрываем\" каждый список из столбца\n",
    "        for num in n_list: # \"раскрываем\" каждое значение из списка\n",
    "            if num not in new_dict.keys():\n",
    "                new_dict[num] = 0 # чтобы избежать обращения к несуществующему ключу\n",
    "            new_dict[num]+= list_values[count]  # суммируем текущее значение с предыдущими\n",
    "        count+=1 \n",
    "    return pd.Series(new_dict) #  на выходе объект Series, где \n",
    "                               #каждое значение из списка связаны со значением из 2 столбца"
   ]
  },
  {
   "cell_type": "markdown",
   "metadata": {
    "colab_type": "text",
    "id": "YxZaH-nPVp-L"
   },
   "source": [
    "# 1. У какого фильма из списка самый большой бюджет?"
   ]
  },
  {
   "cell_type": "markdown",
   "metadata": {
    "colab_type": "text",
    "id": "Nd-G5gX6Vp-M"
   },
   "source": [
    "Использовать варианты ответов в коде решения запрещено.    \n",
    "Вы думаете и в жизни у вас будут варианты ответов?)"
   ]
  },
  {
   "cell_type": "code",
   "execution_count": 1037,
   "metadata": {
    "colab": {},
    "colab_type": "code",
    "id": "uVnXAY5RVp-O"
   },
   "outputs": [],
   "source": [
    "answers['1'] = '5. Pirates of the Caribbean: On Stranger Tides (tt1298650)'\n",
    "# +"
   ]
  },
  {
   "cell_type": "code",
   "execution_count": 1038,
   "metadata": {
    "colab": {},
    "colab_type": "code",
    "id": "dZwb3m28Vp-S"
   },
   "outputs": [
    {
     "data": {
      "text/plain": [
       "'Pirates of the Caribbean: On Stranger Tides'"
      ]
     },
     "metadata": {},
     "output_type": "display_data"
    }
   ],
   "source": [
    "display(data[data['budget'] == data['budget'].max()].original_title.iloc[0])\n",
    "# фильтруем DataFrame по максимальному значению бюджета"
   ]
  },
  {
   "cell_type": "markdown",
   "metadata": {
    "colab_type": "text",
    "id": "K7L3nbRXVp-X"
   },
   "source": [
    "ВАРИАНТ 2"
   ]
  },
  {
   "cell_type": "code",
   "execution_count": 1039,
   "metadata": {
    "colab": {},
    "colab_type": "code",
    "id": "OGaoQI7rVp-X"
   },
   "outputs": [
    {
     "data": {
      "text/plain": [
       "'Pirates of the Caribbean: On Stranger Tides'"
      ]
     },
     "metadata": {},
     "output_type": "display_data"
    }
   ],
   "source": [
    "display(data.query('budget == budget.max()').original_title.iloc[0])"
   ]
  },
  {
   "cell_type": "markdown",
   "metadata": {
    "colab_type": "text",
    "id": "FNRbbI3vVp-c"
   },
   "source": [
    "# 2. Какой из фильмов самый длительный (в минутах)?"
   ]
  },
  {
   "cell_type": "code",
   "execution_count": 1040,
   "metadata": {
    "colab": {},
    "colab_type": "code",
    "id": "vHAoEXNTVp-d"
   },
   "outputs": [],
   "source": [
    "answers['2'] = '2. Gods and Generals (tt0279111)'\n",
    "#+"
   ]
  },
  {
   "cell_type": "code",
   "execution_count": 1041,
   "metadata": {
    "colab": {},
    "colab_type": "code",
    "id": "ot-VX2XrVp-g"
   },
   "outputs": [
    {
     "data": {
      "text/plain": [
       "'Gods and Generals'"
      ]
     },
     "metadata": {},
     "output_type": "display_data"
    }
   ],
   "source": [
    "display(data[data['runtime'] == data['runtime'].max()].original_title.iloc[0])\n",
    "# фильтруем DataFrame по максимальному значению длительности фильма"
   ]
  },
  {
   "cell_type": "markdown",
   "metadata": {
    "colab_type": "text",
    "id": "bapLlpW8Vp-k"
   },
   "source": [
    "# 3. Какой из фильмов самый короткий (в минутах)?\n",
    "\n",
    "\n",
    "\n"
   ]
  },
  {
   "cell_type": "code",
   "execution_count": 1042,
   "metadata": {
    "colab": {},
    "colab_type": "code",
    "id": "YBxaSHuAVp-l"
   },
   "outputs": [],
   "source": [
    "answers['3'] = '3. Winnie the Pooh (tt1449283)'\n",
    "#+"
   ]
  },
  {
   "cell_type": "code",
   "execution_count": 1043,
   "metadata": {},
   "outputs": [
    {
     "data": {
      "text/plain": [
       "'Winnie the Pooh'"
      ]
     },
     "metadata": {},
     "output_type": "display_data"
    }
   ],
   "source": [
    "display(data[data['runtime']==data['runtime'].min()].original_title.iloc[0])\n",
    "# фильтруем DataFrame по минимальному значению длительности фильма"
   ]
  },
  {
   "cell_type": "markdown",
   "metadata": {
    "colab_type": "text",
    "id": "TfQbxbfNVp-p"
   },
   "source": [
    "# 4. Какова средняя длительность фильмов?\n"
   ]
  },
  {
   "cell_type": "code",
   "execution_count": 1044,
   "metadata": {
    "colab": {},
    "colab_type": "code",
    "id": "5K6dKZYVVp-q"
   },
   "outputs": [],
   "source": [
    "answers['4'] = '2. 110'\n",
    "#+"
   ]
  },
  {
   "cell_type": "code",
   "execution_count": 1045,
   "metadata": {},
   "outputs": [
    {
     "data": {
      "text/plain": [
       "110"
      ]
     },
     "metadata": {},
     "output_type": "display_data"
    }
   ],
   "source": [
    "display(round(data['runtime'].mean()))\n",
    "# вычиcляем среднее значение по длительностям фильмов и округляем как в ответах"
   ]
  },
  {
   "cell_type": "markdown",
   "metadata": {
    "colab_type": "text",
    "id": "r5TvbnT_Vp-u"
   },
   "source": [
    "# 5. Каково медианное значение длительности фильмов? "
   ]
  },
  {
   "cell_type": "code",
   "execution_count": 1046,
   "metadata": {
    "colab": {},
    "colab_type": "code",
    "id": "iBROplKnVp-v"
   },
   "outputs": [],
   "source": [
    "answers['5'] = '1. 107'\n",
    "#+"
   ]
  },
  {
   "cell_type": "code",
   "execution_count": 1047,
   "metadata": {},
   "outputs": [
    {
     "data": {
      "text/plain": [
       "107"
      ]
     },
     "metadata": {},
     "output_type": "display_data"
    }
   ],
   "source": [
    "display(round(data['runtime'].median()))\n",
    "# вычиляем медианное значение по длительностям фильмов и округляем как в ответах"
   ]
  },
  {
   "cell_type": "markdown",
   "metadata": {
    "colab_type": "text",
    "id": "39P-deDSVp-y"
   },
   "source": [
    "# 6. Какой самый прибыльный фильм?\n",
    "#### Внимание! Здесь и далее под «прибылью» или «убытками» понимается разность между сборами и бюджетом фильма. (прибыль = сборы - бюджет) в нашем датасете это будет (profit = revenue - budget) "
   ]
  },
  {
   "cell_type": "code",
   "execution_count": 1048,
   "metadata": {
    "colab": {},
    "colab_type": "code",
    "id": "UYZh4T9WVp-y"
   },
   "outputs": [],
   "source": [
    "answers['6'] = '5. Avatar (tt0499549)'\n",
    "#+"
   ]
  },
  {
   "cell_type": "code",
   "execution_count": 1049,
   "metadata": {},
   "outputs": [
    {
     "data": {
      "text/plain": [
       "'Avatar'"
      ]
     },
     "metadata": {},
     "output_type": "display_data"
    }
   ],
   "source": [
    "display(data[data['profit'] == data['profit'].max()].original_title.iloc[0])"
   ]
  },
  {
   "cell_type": "markdown",
   "metadata": {
    "colab_type": "text",
    "id": "M99JmIX4Vp-2"
   },
   "source": [
    "# 7. Какой фильм самый убыточный? "
   ]
  },
  {
   "cell_type": "code",
   "execution_count": 1050,
   "metadata": {
    "colab": {},
    "colab_type": "code",
    "id": "w-D2m4XPVp-3"
   },
   "outputs": [],
   "source": [
    "answers['7'] = '5. The Lone Ranger (tt1210819)'\n",
    "#+"
   ]
  },
  {
   "cell_type": "code",
   "execution_count": 1051,
   "metadata": {},
   "outputs": [
    {
     "data": {
      "text/plain": [
       "'The Lone Ranger'"
      ]
     },
     "metadata": {},
     "output_type": "display_data"
    }
   ],
   "source": [
    "display(data[data['profit'] == data['profit'].min()].original_title.iloc[0])"
   ]
  },
  {
   "cell_type": "markdown",
   "metadata": {
    "colab_type": "text",
    "id": "wEOM5ERVVp-6"
   },
   "source": [
    "# 8. У скольких фильмов из датасета объем сборов оказался выше бюджета?"
   ]
  },
  {
   "cell_type": "code",
   "execution_count": 1052,
   "metadata": {
    "colab": {},
    "colab_type": "code",
    "id": "y00_7HD6Vp-7"
   },
   "outputs": [],
   "source": [
    "answers['8'] = '1. 1478'\n",
    "#+"
   ]
  },
  {
   "cell_type": "code",
   "execution_count": 1053,
   "metadata": {},
   "outputs": [
    {
     "data": {
      "text/plain": [
       "1478"
      ]
     },
     "metadata": {},
     "output_type": "display_data"
    }
   ],
   "source": [
    "display(data[data['profit'] > 0]['imdb_id'].nunique()) \n",
    "# в условии задачи \"завуалировано\" понятие прибыль\n",
    "# обращаемся к столбцу с id, чтобы посчитать количество уникальных значений"
   ]
  },
  {
   "cell_type": "markdown",
   "metadata": {
    "colab_type": "text",
    "id": "xhpspA9KVp_A"
   },
   "source": [
    "# 9. Какой фильм оказался самым кассовым в 2008 году?"
   ]
  },
  {
   "cell_type": "code",
   "execution_count": 1054,
   "metadata": {
    "colab": {},
    "colab_type": "code",
    "id": "MoUyQr9RVp_B",
    "scrolled": true
   },
   "outputs": [],
   "source": [
    "answers['9'] = '4. The Dark Knight (tt0468569)'\n",
    "#+"
   ]
  },
  {
   "cell_type": "code",
   "execution_count": 1055,
   "metadata": {},
   "outputs": [
    {
     "data": {
      "text/plain": [
       "'The Dark Knight'"
      ]
     },
     "metadata": {},
     "output_type": "display_data"
    }
   ],
   "source": [
    "group_years = data.groupby(['release_year'])['revenue'].max()\n",
    "# группировка по году выпуска фильма и максимальному значению по кассовым сборам \n",
    "display(data[data.revenue == group_years[2008]].original_title.iloc[0])\n",
    "# фильтруем данные по 2008 году, выбираем значение \"названия фильма\""
   ]
  },
  {
   "cell_type": "markdown",
   "metadata": {
    "colab_type": "text",
    "id": "Zi4hDKidVp_F"
   },
   "source": [
    "# 10. Самый убыточный фильм за период с 2012 по 2014 г. (включительно)?\n"
   ]
  },
  {
   "cell_type": "code",
   "execution_count": 1056,
   "metadata": {
    "colab": {},
    "colab_type": "code",
    "id": "XqyRmufJVp_F"
   },
   "outputs": [],
   "source": [
    "# ответ можно дать сразу(см. задачу 7)\n",
    "answers['10'] = '5. The Lone Ranger (tt1210819)'\n",
    "#+"
   ]
  },
  {
   "cell_type": "code",
   "execution_count": 1057,
   "metadata": {},
   "outputs": [
    {
     "data": {
      "text/plain": [
       "'The Lone Ranger'"
      ]
     },
     "metadata": {},
     "output_type": "display_data"
    }
   ],
   "source": [
    "group_years = data.query('2011<release_year<2015')\\\n",
    ".groupby(['release_year'])['profit'].min()\n",
    "# фильтруем данные по \"нужным\" годам и группируем фильмы по году выпуска и минимальной прибыли\n",
    "min_profit = group_years.min()\n",
    "display(data[data.profit == min_profit].original_title.iloc[0])\n",
    "# фильтруем данные по минимальной прибыли из минимальных"
   ]
  },
  {
   "cell_type": "markdown",
   "metadata": {
    "colab_type": "text",
    "id": "EA7Sa9dkVp_I"
   },
   "source": [
    "# 11. Какого жанра фильмов больше всего?"
   ]
  },
  {
   "cell_type": "code",
   "execution_count": 1058,
   "metadata": {
    "colab": {},
    "colab_type": "code",
    "id": "zsJAwJ8QVp_J"
   },
   "outputs": [],
   "source": [
    "answers['11'] = 'Drama'\n",
    "# \"+\"\n",
    "# эту задачу тоже можно решать разными подходами, попробуй реализовать разные варианты\n",
    "# судьба не готовила нас к этому жуткому знаку \"|\"!\n",
    "# функция transform_nesting полностью описана в \"Предобработке\""
   ]
  },
  {
   "cell_type": "code",
   "execution_count": 1059,
   "metadata": {},
   "outputs": [
    {
     "data": {
      "text/plain": [
       "'Drama'"
      ]
     },
     "metadata": {},
     "output_type": "display_data"
    }
   ],
   "source": [
    "data_genres = data.genres.str.split('|') \n",
    "# преобразование данных о жанрах в серию списков\n",
    "s_result = transform_nesting(data_genres) \n",
    "# подсчет количества жанров, аналог функции value_counts() для \"сложных\" данных\n",
    "# так как в этой задаче необходимо работать с одним столбцом, \n",
    "# передаем и в transform_nesting 1 столбец\n",
    "display(s_result[s_result == s_result.max()].index[0])\n",
    "# получаем название жанра, встречающееся чаще всего в исходных данных."
   ]
  },
  {
   "cell_type": "markdown",
   "metadata": {
    "colab_type": "text",
    "id": "Ax6g2C8SVp_M"
   },
   "source": [
    "ВАРИАНТ 2"
   ]
  },
  {
   "cell_type": "code",
   "execution_count": 1060,
   "metadata": {
    "colab": {},
    "colab_type": "code",
    "id": "otO3SbrSVp_N"
   },
   "outputs": [],
   "source": [
    "answers['11'] = '3. Drama'"
   ]
  },
  {
   "cell_type": "code",
   "execution_count": 1061,
   "metadata": {},
   "outputs": [
    {
     "data": {
      "text/plain": [
       "'Drama'"
      ]
     },
     "metadata": {},
     "output_type": "display_data"
    }
   ],
   "source": [
    "s_result = pd.Series(Counter(data_profit.genres.str.split('|').sum()))\n",
    "# здесь используем Counter для подсчета количества \"появлений\" жанров в столбце\n",
    "display(s_result[s_result == s_result.max()].index[0])"
   ]
  },
  {
   "cell_type": "markdown",
   "metadata": {
    "colab_type": "text",
    "id": "T9_bPWpkVp_Q"
   },
   "source": [
    "# 12. Фильмы какого жанра чаще всего становятся прибыльными? "
   ]
  },
  {
   "cell_type": "code",
   "execution_count": 1062,
   "metadata": {
    "colab": {},
    "colab_type": "code",
    "id": "Tmt8MaK1Vp_R"
   },
   "outputs": [],
   "source": [
    "answers['12'] = '1. Drama'"
   ]
  },
  {
   "cell_type": "code",
   "execution_count": 1063,
   "metadata": {},
   "outputs": [
    {
     "data": {
      "text/plain": [
       "'Drama'"
      ]
     },
     "metadata": {},
     "output_type": "display_data"
    }
   ],
   "source": [
    "data_profit = data[data.profit > 0]\n",
    "# сначала отсекаем неприбыльные фильмы\n",
    "s_result = pd.Series(Counter(data_profit.genres.str.split('|').sum()))\n",
    "# здесь используем Counter для подсчета количества \"появлений\" жанров в столбце\n",
    "display(s_result[s_result == s_result.max()].index[0])"
   ]
  },
  {
   "cell_type": "markdown",
   "metadata": {
    "colab_type": "text",
    "id": "0F23bgsDVp_U"
   },
   "source": [
    "# 13. У какого режиссера самые большие суммарные кассовые сборы?"
   ]
  },
  {
   "cell_type": "code",
   "execution_count": 1064,
   "metadata": {
    "colab": {},
    "colab_type": "code",
    "id": "K6Z3J8ygVp_X",
    "scrolled": true
   },
   "outputs": [],
   "source": [
    "answers['13'] = '5. Peter Jackson'"
   ]
  },
  {
   "cell_type": "code",
   "execution_count": 1065,
   "metadata": {},
   "outputs": [
    {
     "data": {
      "text/plain": [
       "'Peter Jackson'"
      ]
     },
     "metadata": {},
     "output_type": "display_data"
    }
   ],
   "source": [
    "directors = transform_nesting(data.director_col,data.revenue)\n",
    "#  функция transform_nesting для \"связки\" каждого режиссера с кассовыми сборами фильма\n",
    "display(directors[directors == directors.max()].index[0])"
   ]
  },
  {
   "cell_type": "markdown",
   "metadata": {
    "colab_type": "text",
    "id": "0F23bgsDVp_U"
   },
   "source": [
    "# 14. Какой режисер снял больше всего фильмов в стиле Action?"
   ]
  },
  {
   "cell_type": "code",
   "execution_count": 1066,
   "metadata": {
    "colab": {},
    "colab_type": "code",
    "id": "wd2M-wHeVp_b"
   },
   "outputs": [],
   "source": [
    "answers['14'] = '3. Robert Rodriguez'\n"
   ]
  },
  {
   "cell_type": "code",
   "execution_count": 1067,
   "metadata": {},
   "outputs": [
    {
     "data": {
      "text/plain": [
       "'Robert Rodriguez'"
      ]
     },
     "metadata": {},
     "output_type": "display_data"
    }
   ],
   "source": [
    "data_action = data[data.genres.str.contains('Action')]\n",
    "# фильтруем  по жанру кино: Action\n",
    "s = pd.Series(Counter(data_action.director.str.split('|').sum()))\n",
    "# здесь используем Counter для подсчета количества \"появлений\" режиссеров в столбце.\n",
    "# в итоге получаем объект Series с количествами фильмов снятых каждым режиссером\n",
    "display(s[s == s.max()].index[0])"
   ]
  },
  {
   "cell_type": "markdown",
   "metadata": {
    "colab_type": "text",
    "id": "PQ0KciD7Vp_f"
   },
   "source": [
    "# 15. Фильмы с каким актером принесли самые высокие кассовые сборы в 2012 году? "
   ]
  },
  {
   "cell_type": "code",
   "execution_count": 1068,
   "metadata": {
    "colab": {},
    "colab_type": "code",
    "id": "aga62oeKVp_g",
    "scrolled": true
   },
   "outputs": [],
   "source": [
    "answers['15'] = '3. Chris Hemsworth'"
   ]
  },
  {
   "cell_type": "code",
   "execution_count": 1069,
   "metadata": {},
   "outputs": [
    {
     "data": {
      "text/plain": [
       "[('Bruce Willis', 5),\n",
       " ('Chris Hemsworth', 4),\n",
       " ('Elizabeth Banks', 4),\n",
       " ('Bryan Cranston', 4),\n",
       " ('Channing Tatum', 4),\n",
       " ('Anna Kendrick', 4),\n",
       " ('Kristen Stewart', 3),\n",
       " ('Sacha Baron Cohen', 3),\n",
       " ('Josh Hutcherson', 3),\n",
       " ('Guy Pearce', 3),\n",
       " ('Taylor Kitsch', 3),\n",
       " ('Brendan Gleeson', 3),\n",
       " ('Kate Beckinsale', 3),\n",
       " ('Paul Rudd', 3),\n",
       " ('Ralph Fiennes', 2),\n",
       " ('Anne Hathaway', 2),\n",
       " ('Tom Hardy', 2),\n",
       " ('John Leguizamo', 2),\n",
       " ('Denis Leary', 2),\n",
       " ('Seann William Scott', 2),\n",
       " ('Robert Pattinson', 2),\n",
       " ('Rhys Ifans', 2),\n",
       " ('Frances McDormand', 2),\n",
       " ('Jennifer Lawrence', 2),\n",
       " ('Woody Harrelson', 2),\n",
       " ('Tommy Lee Jones', 2),\n",
       " ('Emma Thompson', 2),\n",
       " ('Mark Wahlberg', 2),\n",
       " ('Giovanni Ribisi', 2),\n",
       " ('Billy Connolly', 2),\n",
       " ('Jane Lynch', 2),\n",
       " ('Hugh Jackman', 2),\n",
       " ('Kerry Washington', 2),\n",
       " ('Michael Fassbender', 2),\n",
       " ('Charlize Theron', 2),\n",
       " ('Liam Neeson', 2),\n",
       " ('Maggie Grace', 2),\n",
       " ('Adam Sandler', 2),\n",
       " ('Jason Statham', 2),\n",
       " ('Chris Pine', 2),\n",
       " ('Alec Baldwin', 2),\n",
       " ('Brooklyn Decker', 2),\n",
       " ('Sam Worthington', 2),\n",
       " ('Rosamund Pike', 2),\n",
       " ('Mark Strong', 2),\n",
       " ('CiarÃ¡n Hinds', 2),\n",
       " ('Edward Norton', 2),\n",
       " ('Michelle Pfeiffer', 2),\n",
       " ('Tom Cruise', 2),\n",
       " ('David Oyelowo', 2),\n",
       " ('Bradley Cooper', 2),\n",
       " ('Colin Farrell', 2),\n",
       " ('Ewan McGregor', 2),\n",
       " ('Megan Fox', 2),\n",
       " ('Jessica Chastain', 2),\n",
       " ('Chris Pratt', 2),\n",
       " ('Michael Ealy', 2),\n",
       " ('Jim Sturgess', 2),\n",
       " ('Salma Hayek', 2),\n",
       " ('Jason Segel', 2),\n",
       " ('Jeffrey Dean Morgan', 2),\n",
       " ('Susan Sarandon', 2),\n",
       " ('Emily Blunt', 2),\n",
       " ('Joseph Gordon-Levitt', 2),\n",
       " ('John Krasinski', 2),\n",
       " ('Malin Ã…kerman', 2),\n",
       " ('Olivia Wilde', 2),\n",
       " ('Kirsten Dunst', 2),\n",
       " ('Robert Downey Jr.', 1),\n",
       " ('Chris Evans', 1),\n",
       " ('Mark Ruffalo', 1),\n",
       " ('Scarlett Johansson', 1),\n",
       " ('Daniel Craig', 1),\n",
       " ('Judi Dench', 1),\n",
       " ('Javier Bardem', 1),\n",
       " ('Naomie Harris', 1),\n",
       " ('Christian Bale', 1),\n",
       " ('Michael Caine', 1),\n",
       " ('Gary Oldman', 1),\n",
       " ('Ian McKellen', 1),\n",
       " ('Martin Freeman', 1),\n",
       " ('Richard Armitage', 1),\n",
       " ('Andy Serkis', 1),\n",
       " ('Cate Blanchett', 1),\n",
       " ('Ray Romano', 1),\n",
       " ('Chris Wedge', 1),\n",
       " ('Taylor Lautner', 1),\n",
       " ('Peter Facinelli', 1),\n",
       " ('Elizabeth Reaser', 1),\n",
       " ('Andrew Garfield', 1),\n",
       " ('Emma Stone', 1),\n",
       " ('Martin Sheen', 1),\n",
       " ('Ben Stiller', 1),\n",
       " ('David Schwimmer', 1),\n",
       " ('Chris Rock', 1),\n",
       " ('Liam Hemsworth', 1),\n",
       " ('Will Smith', 1),\n",
       " ('Josh Brolin', 1),\n",
       " ('Michael Stuhlbarg', 1),\n",
       " ('Suraj Sharma', 1),\n",
       " ('Irrfan Khan', 1),\n",
       " ('Ayush Tandon', 1),\n",
       " ('Gautam Belur', 1),\n",
       " ('Adil Hussain', 1),\n",
       " ('Mila Kunis', 1),\n",
       " ('Seth MacFarlane', 1),\n",
       " ('Joel McHale', 1),\n",
       " ('Kelly Macdonald', 1),\n",
       " ('Julie Walters', 1),\n",
       " ('Kevin McKidd', 1),\n",
       " ('John C. Reilly', 1),\n",
       " ('Sarah Silverman', 1),\n",
       " ('Jack McBrayer', 1),\n",
       " ('Jamie Elman', 1),\n",
       " ('Russell Crowe', 1),\n",
       " ('Amanda Seyfried', 1),\n",
       " ('Jamie Foxx', 1),\n",
       " ('Christoph Waltz', 1),\n",
       " ('Leonardo DiCaprio', 1),\n",
       " ('Samuel L. Jackson', 1),\n",
       " ('Noomi Rapace', 1),\n",
       " ('Idris Elba', 1),\n",
       " ('Sam Claflin', 1),\n",
       " ('Ian McShane', 1),\n",
       " ('Famke Janssen', 1),\n",
       " ('Rade Serbedzija', 1),\n",
       " ('Luke Grimes', 1),\n",
       " ('Steve Buscemi', 1),\n",
       " ('David Spade', 1),\n",
       " ('Kevin James', 1),\n",
       " ('Selena Gomez', 1),\n",
       " ('Dwayne Johnson', 1),\n",
       " ('Kristin Davis', 1),\n",
       " ('Vanessa Hudgens', 1),\n",
       " ('Luis GuzmÃ¡n', 1),\n",
       " ('Zac Efron', 1),\n",
       " ('Danny DeVito', 1),\n",
       " ('Taylor Swift', 1),\n",
       " ('Ed Helms', 1),\n",
       " ('Rob Riggle', 1),\n",
       " ('Sylvester Stallone', 1),\n",
       " ('Dolph Lundgren', 1),\n",
       " ('Arnold Schwarzenegger', 1),\n",
       " ('Jude Law', 1),\n",
       " ('Isla Fisher', 1),\n",
       " ('Alexander SkarsgÃ¥rd', 1),\n",
       " ('Rihanna', 1),\n",
       " ('Tadanobu Asano', 1),\n",
       " ('Edgar RamÃ\\xadrez', 1),\n",
       " ('Lynn Collins', 1),\n",
       " ('Willem Dafoe', 1),\n",
       " ('Jeremy Renner', 1),\n",
       " ('Rachel Weisz', 1),\n",
       " ('Scott Glenn', 1),\n",
       " ('Stacy Keach', 1),\n",
       " ('Johnny Depp', 1),\n",
       " ('Helena Bonham Carter', 1),\n",
       " ('Jackie Earle Haley', 1),\n",
       " ('Jonny Lee Miller', 1),\n",
       " ('Milla Jovovich', 1),\n",
       " ('Sienna Guillory', 1),\n",
       " ('Michelle Rodriguez', 1),\n",
       " ('Aryana Engineer', 1),\n",
       " ('Li Bingbing', 1),\n",
       " ('Jason Biggs', 1),\n",
       " ('Alyson Hannigan', 1),\n",
       " ('Chris Klein', 1),\n",
       " ('Thomas Ian Nicholas', 1),\n",
       " ('Ben Affleck', 1),\n",
       " ('Alan Arkin', 1),\n",
       " ('John Goodman', 1),\n",
       " ('Victor Garber', 1),\n",
       " ('Richard Jenkins', 1),\n",
       " ('Werner Herzog', 1),\n",
       " ('Denzel Washington', 1),\n",
       " ('Ryan Reynolds', 1),\n",
       " ('Vera Farmiga', 1),\n",
       " ('Joel Kinnaman', 1),\n",
       " ('Robert De Niro', 1),\n",
       " ('Jacki Weaver', 1),\n",
       " ('Chris Tucker', 1),\n",
       " ('Jonah Hill', 1),\n",
       " ('Brie Larson', 1),\n",
       " ('Dave Franco', 1),\n",
       " ('Ellie Kemper', 1),\n",
       " ('Jessica Biel', 1),\n",
       " ('Bill Nighy', 1),\n",
       " ('Rachel McAdams', 1),\n",
       " ('Sam Neill', 1),\n",
       " ('Scott Speedman', 1),\n",
       " ('Jessica Lange', 1),\n",
       " ('Julia Roberts', 1),\n",
       " ('Lily Collins', 1),\n",
       " ('Armie Hammer', 1),\n",
       " ('Nathan Lane', 1),\n",
       " ('Martin Klebba', 1),\n",
       " ('Naomi Watts', 1),\n",
       " ('Tom Holland', 1),\n",
       " ('Samuel Joslin', 1),\n",
       " ('Oaklee Pendergast', 1),\n",
       " ('Sayed Badreya', 1),\n",
       " ('Aasif Mandvi', 1),\n",
       " ('Anna Faris', 1),\n",
       " ('Matthew McConaughey', 1),\n",
       " ('Olivia Munn', 1),\n",
       " ('Cody Horn', 1),\n",
       " ('Alex Pettyfer', 1),\n",
       " ('Dane DeHaan', 1),\n",
       " ('Alex Russell', 1),\n",
       " ('Michael B. Jordan', 1),\n",
       " ('Michael Kelly', 1),\n",
       " ('Anna Wood', 1),\n",
       " ('Katie Featherston', 1),\n",
       " ('Kathryn Newton', 1),\n",
       " ('Matt Shively', 1),\n",
       " ('Brady Allen', 1),\n",
       " ('Sprague Grayden', 1),\n",
       " ('Kathryn McCormick', 1),\n",
       " ('Ryan Guzman', 1),\n",
       " ('Stephen Boss', 1),\n",
       " ('Megan Boone', 1),\n",
       " ('Jessica Guadix', 1),\n",
       " ('Jason Clarke', 1),\n",
       " ('Joel Edgerton', 1),\n",
       " ('Stephen Rea', 1),\n",
       " ('Theo James', 1),\n",
       " ('India Eisley', 1),\n",
       " ('Tom Hanks', 1),\n",
       " ('Halle Berry', 1),\n",
       " ('Jim Broadbent', 1),\n",
       " ('Hugo Weaving', 1),\n",
       " ('Daniel Radcliffe', 1),\n",
       " ('Sidney Johnston', 1),\n",
       " ('Alisa Khazanova', 1),\n",
       " ('Mary Stockley', 1),\n",
       " ('Billy Crystal', 1),\n",
       " ('Bette Midler', 1),\n",
       " ('Marisa Tomei', 1),\n",
       " ('Tom Everett Scott', 1),\n",
       " ('Bailee Madison', 1),\n",
       " ('Hugh Grant', 1),\n",
       " ('Jeremy Piven', 1),\n",
       " ('Brian Blessed', 1),\n",
       " ('Skylar Astin', 1),\n",
       " ('Brittany Snow', 1),\n",
       " ('Anna Camp', 1),\n",
       " ('Rebel Wilson', 1),\n",
       " ('Meryl Streep', 1),\n",
       " ('Steve Carell', 1),\n",
       " ('Jean Smart', 1),\n",
       " ('Marin Ireland', 1),\n",
       " ('Benjamin Walker', 1),\n",
       " ('Dominic Cooper', 1),\n",
       " ('Anthony Mackie', 1),\n",
       " ('Mary Elizabeth Winstead', 1),\n",
       " ('Rufus Sewell', 1),\n",
       " ('Kodi Smit-McPhee', 1),\n",
       " ('Tucker Albrizzi', 1),\n",
       " ('Jodelle Ferland', 1),\n",
       " ('Casey Affleck', 1),\n",
       " ('Oliver Cooper', 1),\n",
       " ('Jonathan Daniel Brown', 1),\n",
       " ('Thomas Mann', 1),\n",
       " ('Dax Flame', 1),\n",
       " ('Kirby Bliss Blanton', 1),\n",
       " ('Jerry Ferrara', 1),\n",
       " ('Meagan Good', 1),\n",
       " ('Regina Hall', 1),\n",
       " ('Kevin Hart', 1),\n",
       " ('Leslie Mann', 1),\n",
       " ('Maude Apatow', 1),\n",
       " ('Natasha Calis', 1),\n",
       " ('Madison Davenport', 1),\n",
       " ('Kyra Sedgwick', 1),\n",
       " ('Rob LaBelle', 1),\n",
       " ('Charlie Tahan', 1),\n",
       " ('Winona Ryder', 1),\n",
       " (\"Catherine O'Hara\", 1),\n",
       " ('Martin Short', 1),\n",
       " ('Martin Landau', 1),\n",
       " ('Roselyn SÃ¡nchez', 1),\n",
       " ('Emilio Rivera', 1),\n",
       " ('Nestor Serrano', 1),\n",
       " ('Gonzalo Menendez', 1),\n",
       " ('Alexander Asefa', 1),\n",
       " ('Cameron Diaz', 1),\n",
       " ('Jennifer Lopez', 1),\n",
       " ('Devon Bostick', 1),\n",
       " ('Steve Zahn', 1),\n",
       " ('Peyton List', 1),\n",
       " ('Rachael Harris', 1),\n",
       " ('Zachary Gordon', 1),\n",
       " ('Jared Gilman', 1),\n",
       " ('Kara Hayward', 1),\n",
       " ('Bill Murray', 1),\n",
       " ('Kristen Connolly', 1),\n",
       " ('Anna Hutchison', 1),\n",
       " ('Fran Kranz', 1),\n",
       " ('Jesse Williams', 1),\n",
       " ('Ben Foster', 1),\n",
       " ('J.K. Simmons', 1),\n",
       " ('Maggie Smith', 1),\n",
       " ('Tom Courtenay', 1),\n",
       " ('Pauline Collins', 1),\n",
       " ('Michael Gambon', 1),\n",
       " ('Diego Boneta', 1),\n",
       " ('Julianne Hough', 1),\n",
       " ('Eva Amurri Martino', 1),\n",
       " ('Leighton Meester', 1),\n",
       " ('Andy Samberg', 1),\n",
       " ('Sean Hayes', 1),\n",
       " ('Will Sasso', 1),\n",
       " ('Chris Diamantopoulos', 1),\n",
       " ('SofÃ\\xada Vergara', 1),\n",
       " ('Alison Brie', 1),\n",
       " ('Shia LaBeouf', 1),\n",
       " ('Mia Wasikowska', 1),\n",
       " ('Adelaide Clemens', 1),\n",
       " ('Kit Harington', 1),\n",
       " ('Sean Bean', 1),\n",
       " ('Carrie-Anne Moss', 1),\n",
       " ('Radha Mitchell', 1),\n",
       " ('Cuba Gooding Jr.', 1),\n",
       " ('Daniela Ruah', 1),\n",
       " ('Terrence Howard', 1),\n",
       " ('Jake Gyllenhaal', 1),\n",
       " ('Michael PeÃ±a', 1),\n",
       " ('Natalie Martinez', 1),\n",
       " ('David Harbour', 1),\n",
       " ('Paul Dano', 1),\n",
       " ('Noah Segan', 1),\n",
       " ('Blake Lively', 1),\n",
       " ('Aaron Taylor-Johnson', 1),\n",
       " ('Benicio del Toro', 1),\n",
       " ('Jamie Bell', 1),\n",
       " ('Ed Harris', 1),\n",
       " ('Edward Burns', 1),\n",
       " ('Isabel Lucas', 1),\n",
       " ('Adrianne Palicki', 1),\n",
       " ('Karl Urban', 1),\n",
       " ('Olivia Thirlby', 1),\n",
       " ('Lena Headey', 1),\n",
       " ('Wood Harris', 1),\n",
       " ('Jason Cope', 1),\n",
       " ('Chris Sarandon', 1),\n",
       " ('James Hong', 1),\n",
       " ('Catherine Chan', 1),\n",
       " ('Robert John Burke', 1),\n",
       " ('Brad Pitt', 1),\n",
       " ('Scoot McNairy', 1),\n",
       " ('Ben Mendelsohn', 1),\n",
       " ('James Gandolfini', 1),\n",
       " ('Ray Liotta', 1),\n",
       " ('Katherine Heigl', 1),\n",
       " ('Debbie Reynolds', 1),\n",
       " ('Sherri Shepherd', 1),\n",
       " ('Patrick Fischler', 1),\n",
       " ('Richard Gere', 1),\n",
       " ('Tim Roth', 1),\n",
       " ('Brit Marling', 1),\n",
       " ('Monica Raymund', 1),\n",
       " ('Logan Lerman', 1),\n",
       " ('Emma Watson', 1),\n",
       " ('Ezra Miller', 1),\n",
       " ('Nina Dobrev', 1),\n",
       " ('Gina Carano', 1),\n",
       " ('Bill Paxton', 1),\n",
       " ('Katy Perry', 1),\n",
       " ('Russell Brand', 1),\n",
       " ('Shannon Woodward', 1),\n",
       " ('Rachael Markarian', 1),\n",
       " ('Mia Moretti', 1),\n",
       " ('Joseph Gilgun', 1),\n",
       " ('Lennie James', 1),\n",
       " ('Peter Stormare', 1),\n",
       " ('Michael Shannon', 1),\n",
       " ('Dania Ramirez', 1),\n",
       " ('Jamie Chung', 1),\n",
       " ('WolÃ© Parks', 1),\n",
       " ('Tyler Perry', 1),\n",
       " ('Rachel Nichols', 1),\n",
       " ('Jean Reno', 1),\n",
       " ('Matthew Fox', 1),\n",
       " ('Giancarlo Esposito', 1),\n",
       " ('John Cusack', 1),\n",
       " ('Luke Evans', 1),\n",
       " ('Alice Eve', 1),\n",
       " ('Kevin McNally', 1),\n",
       " ('Joaquin Phoenix', 1),\n",
       " ('Philip Seymour Hoffman', 1),\n",
       " ('Amy Adams', 1),\n",
       " ('Laura Dern', 1),\n",
       " ('Jesse Plemons', 1),\n",
       " ('Drew Barrymore', 1),\n",
       " ('Kristen Bell', 1),\n",
       " ('Vinessa Shaw', 1),\n",
       " ('Dermot Mulroney', 1),\n",
       " ('Whitney Houston', 1),\n",
       " ('Cee Lo Green', 1),\n",
       " ('Derek Luke', 1),\n",
       " ('Mike Epps', 1),\n",
       " ('Carmen Ejogo', 1),\n",
       " ('Jennifer Aniston', 1),\n",
       " ('Justin Theroux', 1),\n",
       " ('Lauren Ambrose', 1),\n",
       " ('Eddie Murphy', 1),\n",
       " ('Allison Janney', 1),\n",
       " ('Cliff Curtis', 1),\n",
       " ('Clark Duke', 1),\n",
       " ('Sam Rockwell', 1),\n",
       " ('Christopher Walken', 1),\n",
       " ('Abbie Cornish', 1),\n",
       " ('Henry Cavill', 1),\n",
       " ('VerÃ³nica Echegui', 1),\n",
       " ('Sigourney Weaver', 1),\n",
       " ('Caroline Goodall', 1),\n",
       " ('Zoe Saldana', 1),\n",
       " ('Jeremy Irons', 1),\n",
       " ('Dennis Quaid', 1),\n",
       " ('Mark Duplass', 1),\n",
       " ('Victoria Justice', 1),\n",
       " ('Jackson Nicoll', 1),\n",
       " ('Chelsea Handler', 1),\n",
       " ('Josh Pence', 1),\n",
       " ('Jane Levy', 1),\n",
       " ('Ashley Greene', 1),\n",
       " ('Sebastian Stan', 1),\n",
       " ('Tom Felton', 1),\n",
       " ('Julianna Guill', 1),\n",
       " ('Luke Pasqualino', 1),\n",
       " ('Eva Longoria', 1),\n",
       " ('Andy GarcÃ\\xada', 1),\n",
       " ('Oscar Isaac', 1),\n",
       " (\"Peter O'Toole\", 1),\n",
       " ('RubÃ©n Blades', 1),\n",
       " ('Garrett Hedlund', 1),\n",
       " ('Sam Riley', 1),\n",
       " ('Tom Sturridge', 1),\n",
       " ('Danielle Panabaker', 1),\n",
       " ('Matt Bush', 1),\n",
       " ('Katrina Bowden', 1),\n",
       " ('Jean-Luc Bilodeau', 1),\n",
       " ('David Koechner', 1),\n",
       " ('Matt Damon', 1),\n",
       " ('Rosemarie DeWitt', 1),\n",
       " ('Lucas Black', 1),\n",
       " ('Timothy Spall', 1),\n",
       " ('James Kidnie', 1),\n",
       " ('Heidi Hawkins', 1),\n",
       " ('Sarah Gadon', 1),\n",
       " ('Juliette Binoche', 1),\n",
       " ('Paul Giamatti', 1),\n",
       " ('Samantha Morton', 1),\n",
       " ('Josh Duhamel', 1),\n",
       " ('Rosario Dawson', 1),\n",
       " (\"Vincent D'Onofrio\", 1),\n",
       " ('50 Cent', 1),\n",
       " ('Jason Bateman', 1),\n",
       " ('Hope Davis', 1),\n",
       " ('Frank Grillo', 1),\n",
       " ('Paula Patton', 1),\n",
       " ('Michael Nyqvist', 1),\n",
       " ('Nicolas Cage', 1),\n",
       " ('Josh Lucas', 1),\n",
       " ('Sami Gayle', 1),\n",
       " ('Danny Huston', 1)]"
      ]
     },
     "metadata": {},
     "output_type": "display_data"
    }
   ],
   "source": [
    "data_2012=data[data['release_date'].dt.year == 2012]\\\n",
    ".sort_values(['revenue'],ascending=False).head(len(data)//10).reset_index()\n",
    "# Фильтруем по 2012 году, сортируем по кассовым сборам по убыванию \n",
    "# и берем 10% лучших по кассовым сборам фильмов\n",
    "display(Counter(data_2012.cast.str.split('|').sum()).most_common())\n",
    "# здесь используем Counter для подсчета количества \"появлений\" актеров в столбце\n",
    "# Выбираем актера, который в начале списка и есть в одном из ответов в викторине, \n",
    "# так как задача не 100% конкретная"
   ]
  },
  {
   "cell_type": "markdown",
   "metadata": {
    "colab_type": "text",
    "id": "mWHyyL7QVp_j"
   },
   "source": [
    "# 16. Какой актер снялся в большем количестве высокобюджетных фильмов?"
   ]
  },
  {
   "cell_type": "code",
   "execution_count": 1070,
   "metadata": {
    "colab": {},
    "colab_type": "code",
    "id": "qQtmHKTFVp_k"
   },
   "outputs": [],
   "source": [
    "answers['16'] = '3. Matt Damon'"
   ]
  },
  {
   "cell_type": "code",
   "execution_count": 1071,
   "metadata": {},
   "outputs": [
    {
     "data": {
      "text/plain": [
       "'Matt Damon'"
      ]
     },
     "execution_count": 1071,
     "metadata": {},
     "output_type": "execute_result"
    }
   ],
   "source": [
    "data_budget = data[data['budget'] > data['budget'].mean()]\n",
    "# отсекаем фильмы с бюджетом \"ниже среднего\"\n",
    "Counter(data_budget.cast.str.split('|').sum()).most_common()[0][0]\n",
    "# считаем в скольких высокобюджетных фильмах снялся каждый актер \n",
    "# и выделяем одного очень прилично зарабатывающего"
   ]
  },
  {
   "cell_type": "markdown",
   "metadata": {
    "colab_type": "text",
    "id": "NIh6AaW5Vp_n"
   },
   "source": [
    "# 17. В фильмах какого жанра больше всего снимался Nicolas Cage? "
   ]
  },
  {
   "cell_type": "code",
   "execution_count": 1072,
   "metadata": {
    "colab": {},
    "colab_type": "code",
    "id": "H74SJDIBVp_n"
   },
   "outputs": [],
   "source": [
    "answers['17'] = '3. Matt Damon'\n",
    "#+"
   ]
  },
  {
   "cell_type": "code",
   "execution_count": 1073,
   "metadata": {},
   "outputs": [
    {
     "data": {
      "text/plain": [
       "'Action'"
      ]
     },
     "execution_count": 1073,
     "metadata": {},
     "output_type": "execute_result"
    }
   ],
   "source": [
    "data_Cage = data[data.cast.str.contains('Nicolas Cage')]\n",
    "# ищем все фильмы с упоминаниями Кейджа в актерах\n",
    "Counter(data_Cage.genres.str.split('|').sum()).most_common()[0][0]\n",
    "# выбираем самый частый жанр для Nicci"
   ]
  },
  {
   "cell_type": "markdown",
   "metadata": {
    "colab_type": "text",
    "id": "RqOmPRfWVp_q"
   },
   "source": [
    "# 18. Самый убыточный фильм от Paramount Pictures"
   ]
  },
  {
   "cell_type": "code",
   "execution_count": 1074,
   "metadata": {
    "colab": {},
    "colab_type": "code",
    "id": "9E_B0Y96Vp_r"
   },
   "outputs": [],
   "source": [
    "answers['18'] = '1. K-19: The Widowmaker (tt0267626)'\n",
    "#+"
   ]
  },
  {
   "cell_type": "code",
   "execution_count": 1075,
   "metadata": {},
   "outputs": [
    {
     "data": {
      "text/plain": [
       "'K-19: The Widowmaker'"
      ]
     },
     "execution_count": 1075,
     "metadata": {},
     "output_type": "execute_result"
    }
   ],
   "source": [
    "data_paramount = data[data.production_companies.str.contains('Paramount Pictures')]\n",
    "# ищем все фильмы с упоминаниями студии Paramount Pictures\n",
    "data_paramount[data_paramount['profit'] == data_Paramount['profit'].min()]\\\n",
    ".original_title.any()\n",
    "# выделяем минимальных по прибыльности фильм"
   ]
  },
  {
   "cell_type": "markdown",
   "metadata": {
    "colab_type": "text",
    "id": "vS8Ur6ddVp_u"
   },
   "source": [
    "# 19. Какой год стал самым успешным по суммарным кассовым сборам?"
   ]
  },
  {
   "cell_type": "code",
   "execution_count": 1076,
   "metadata": {
    "colab": {},
    "colab_type": "code",
    "id": "Dnbt4GdIVp_v",
    "scrolled": true
   },
   "outputs": [],
   "source": [
    "answers['19'] = '5. 2015'\n",
    "# \"+\""
   ]
  },
  {
   "cell_type": "code",
   "execution_count": 1077,
   "metadata": {},
   "outputs": [
    {
     "data": {
      "text/plain": [
       "2015"
      ]
     },
     "metadata": {},
     "output_type": "display_data"
    }
   ],
   "source": [
    "s = data.groupby(data['release_date'].dt.year)['revenue'].sum()\n",
    "# Группируем данные по годам и максимальным кассовым сборам\n",
    "display(s[s == s.max()].index[0])"
   ]
  },
  {
   "cell_type": "markdown",
   "metadata": {
    "colab_type": "text",
    "id": "JAzJh4QAVp_z"
   },
   "source": [
    "# 20. Какой самый прибыльный год для студии Warner Bros?"
   ]
  },
  {
   "cell_type": "code",
   "execution_count": 1078,
   "metadata": {
    "colab": {},
    "colab_type": "code",
    "id": "wgVu02DEVp_0",
    "scrolled": true
   },
   "outputs": [],
   "source": [
    "answers['20'] = '1. 2014'"
   ]
  },
  {
   "cell_type": "code",
   "execution_count": 1079,
   "metadata": {},
   "outputs": [
    {
     "data": {
      "text/plain": [
       "2014"
      ]
     },
     "metadata": {},
     "output_type": "display_data"
    }
   ],
   "source": [
    "data_wb = data[data.production_companies.str.contains('Warner')]\n",
    "# ищем все фильмы с упоминаниями студии Warner Bros\n",
    "s=data_wb.groupby(data['release_date'].dt.year)['profit'].sum()\n",
    "# группируем отфильтрованные  данные по годам и прибыли\n",
    "display(s[s==s.max()].index[0])"
   ]
  },
  {
   "cell_type": "markdown",
   "metadata": {
    "colab_type": "text",
    "id": "8Im1S2HRVp_4"
   },
   "source": [
    "# 21. В каком месяце за все годы суммарно вышло больше всего фильмов?"
   ]
  },
  {
   "cell_type": "code",
   "execution_count": 1080,
   "metadata": {
    "colab": {},
    "colab_type": "code",
    "id": "lev6TH7gVp_4",
    "scrolled": true
   },
   "outputs": [],
   "source": [
    "answers['21'] = '4. Сентябрь'"
   ]
  },
  {
   "cell_type": "code",
   "execution_count": 1081,
   "metadata": {},
   "outputs": [
    {
     "data": {
      "text/plain": [
       "9"
      ]
     },
     "metadata": {},
     "output_type": "display_data"
    }
   ],
   "source": [
    "s = data.groupby(data['release_date'].dt.month)['imdb_id'].count()\n",
    "# группируем данные по месяцам и считаем количество фильмов\n",
    "display(s[s == s.max()].index[0])"
   ]
  },
  {
   "cell_type": "markdown",
   "metadata": {
    "colab_type": "text",
    "id": "uAJsZ_NeVp_7"
   },
   "source": [
    "# 22. Сколько суммарно вышло фильмов летом? (за июнь, июль, август)"
   ]
  },
  {
   "cell_type": "code",
   "execution_count": 1082,
   "metadata": {
    "colab": {},
    "colab_type": "code",
    "id": "Aa-hEREoVp_8"
   },
   "outputs": [],
   "source": [
    "answers['22'] = '2. 450'"
   ]
  },
  {
   "cell_type": "code",
   "execution_count": 1083,
   "metadata": {},
   "outputs": [
    {
     "data": {
      "text/plain": [
       "450"
      ]
     },
     "metadata": {},
     "output_type": "display_data"
    }
   ],
   "source": [
    "s = data.groupby(data['release_date'].dt.month)['imdb_id'].count()\n",
    "# группируем данные по месяцам и считаем количество фильмов\n",
    "display(s[5:8].sum())\n",
    "# выделяем летние месяцы и суммируем количество фильмов"
   ]
  },
  {
   "cell_type": "markdown",
   "metadata": {
    "colab_type": "text",
    "id": "G94ppOY1VqAA"
   },
   "source": [
    "# 23. Для какого режиссера зима – самое продуктивное время года? "
   ]
  },
  {
   "cell_type": "code",
   "execution_count": 1084,
   "metadata": {
    "colab": {},
    "colab_type": "code",
    "id": "RhNTsamuVqAB",
    "scrolled": true
   },
   "outputs": [],
   "source": [
    "answers['23'] = '5. Peter Jackson'"
   ]
  },
  {
   "cell_type": "code",
   "execution_count": 1085,
   "metadata": {},
   "outputs": [
    {
     "data": {
      "text/plain": [
       "'Peter Jackson'"
      ]
     },
     "execution_count": 1085,
     "metadata": {},
     "output_type": "execute_result"
    }
   ],
   "source": [
    "data_seasons = data[['director','date_seasons']]\n",
    "# выделяем для удобства 2 столбца, с режиссерами и подготовленный в предобработке столбец с временами года\n",
    "data_seasons_analysis = pd.get_dummies(data_seasons, columns=['date_seasons'])\n",
    "# вызываем функцию get_dummies() для создания столбцов по каждому времени года\n",
    "find_winter = data_seasons_analysis.\\\n",
    "groupby(['director'])['date_seasons_winter'].sum().reset_index()\n",
    "# группируем получившуюся таблицу по режиссерам и зиме\n",
    "find_winter['director'] = find_winter['director']\\\n",
    ".apply(lambda x : x.split('|'), convert_dtype=True)\n",
    "# преобразуем столбец со \"строковыми\" режиссерами в список режиссеров\n",
    "s_result = transform_nesting(find_winter.director, find_winter.date_seasons_winter)\n",
    "# для каждого режиссера считаем, сколько фильмов он выпустил зимой\n",
    "s_result[s_result==s_result.max()].index[0]"
   ]
  },
  {
   "cell_type": "markdown",
   "metadata": {},
   "source": [
    "ВАРИАНТ 2"
   ]
  },
  {
   "cell_type": "code",
   "execution_count": 1086,
   "metadata": {},
   "outputs": [
    {
     "data": {
      "text/plain": [
       "director                       date_seasons\n",
       "Peter Jackson                  winter          7\n",
       "Clint Eastwood                 winter          6\n",
       "Steven Soderbergh              winter          6\n",
       "Marc Forster                   fall            6\n",
       "Michael Bay                    summer          6\n",
       "                                              ..\n",
       "Michael Lembeck                winter          1\n",
       "Michael McCullers              spring          1\n",
       "Michael Moore                  fall            1\n",
       "                               spring          1\n",
       "Aaron Seltzer|Jason Friedberg  winter          1\n",
       "Name: date_seasons, Length: 1446, dtype: int64"
      ]
     },
     "metadata": {},
     "output_type": "display_data"
    }
   ],
   "source": [
    "# \"Простое решение\", но не 100% решение, так как \"объединенные\" режиссеры, \n",
    "# но ответ сразу ясен + есть инф-я относительно остальных времен года, \n",
    "# что может подразумеваться в условии задачи\n",
    "new_data = data.groupby(['director'])['date_seasons'].value_counts()\n",
    "display(new_data.sort_values(ascending=False))"
   ]
  },
  {
   "cell_type": "markdown",
   "metadata": {
    "colab_type": "text",
    "id": "RBo0JVjVVqAF"
   },
   "source": [
    "# 24. Какая студия дает самые длинные названия своим фильмам по количеству символов?"
   ]
  },
  {
   "cell_type": "code",
   "execution_count": 1087,
   "metadata": {
    "colab": {},
    "colab_type": "code",
    "id": "QRGS8L0iVqAG",
    "scrolled": true
   },
   "outputs": [],
   "source": [
    "answers['24'] = '5. Four By Two Productions'"
   ]
  },
  {
   "cell_type": "code",
   "execution_count": 1088,
   "metadata": {},
   "outputs": [
    {
     "data": {
      "text/plain": [
       "'Four By Two Productions'"
      ]
     },
     "metadata": {},
     "output_type": "display_data"
    }
   ],
   "source": [
    "film_len = transform_nesting(data.production_col,data.original_title_len)\\\n",
    ".reset_index()\n",
    "# получаем Series общих длин фильмов, снятых на каждой студии, \n",
    "# столбец с количеством символов в названии фильма задан в предобработке\n",
    "film_count = transform_nesting(data.production_col).reset_index()\n",
    "# получаем Series с общим количеством фильмов, снятых на каждой студии \n",
    "merge_production = pd.merge(film_len,film_count, on='index', how='outer')\n",
    "# соединяем 2 Series по именам студий\n",
    "merge_production.columns=['production','len','count']\n",
    "# переименовываем столбцы для удобства\n",
    "merge_production['mean']=merge_production['len']/merge_production['count']\n",
    "# вычисляем среднюю по студии длину названия фильма по количеству символов\n",
    "display(merge_production[merge_production['mean'] == merge_production['mean'].max()]\\\n",
    "        ['production'].any())\n",
    "# выбираем студию, у которой в среднем самые длинные названия фильмов"
   ]
  },
  {
   "cell_type": "markdown",
   "metadata": {
    "colab_type": "text",
    "id": "9G0hbvR7VqAK"
   },
   "source": [
    "# 25. Описание фильмов какой студии в среднем самые длинные по количеству слов?"
   ]
  },
  {
   "cell_type": "code",
   "execution_count": 1089,
   "metadata": {
    "colab": {},
    "colab_type": "code",
    "id": "Ge2GsLNxVqAK"
   },
   "outputs": [],
   "source": [
    "answers['25'] = '3. Midnight Picture Show'\n",
    "#\"+\""
   ]
  },
  {
   "cell_type": "code",
   "execution_count": 1090,
   "metadata": {},
   "outputs": [
    {
     "data": {
      "text/plain": [
       "'Midnight Picture Show'"
      ]
     },
     "metadata": {},
     "output_type": "display_data"
    }
   ],
   "source": [
    "film_overview_words = transform_nesting(data.production_col, data.overview_words)\\\n",
    ".reset_index()\n",
    "\n",
    "film_count = transform_nesting(data.production_col).reset_index()\n",
    "merge_overview = pd.merge(film_overview_words, film_count, on='index', how='outer')\n",
    "merge_overview.columns = ['production','overview_words','count']\n",
    "\n",
    "merge_overview['mean'] = merge_overview['overview_words'] / merge_production['count']\n",
    "# аналогично заданию 24, столбец количества слов в описании фильма задан в предобработке\n",
    "display(merge_overview[merge_overview['mean'] == merge_overview['mean'].max()]\\\n",
    "        ['production'].any())"
   ]
  },
  {
   "cell_type": "markdown",
   "metadata": {
    "colab_type": "text",
    "id": "FJ1AFt90VqAP"
   },
   "source": [
    "# 26. Какие фильмы входят в 1 процент лучших по рейтингу? \n",
    "по vote_average"
   ]
  },
  {
   "cell_type": "code",
   "execution_count": 1091,
   "metadata": {},
   "outputs": [],
   "source": [
    "answers['26'] = '1. Inside Out, The Dark Knight, 12 Years a Slave'\n",
    "#\"+\""
   ]
  },
  {
   "cell_type": "code",
   "execution_count": 1092,
   "metadata": {
    "colab": {},
    "colab_type": "code",
    "id": "8qmJVq4CVqAQ"
   },
   "outputs": [
    {
     "data": {
      "text/plain": [
       "['The Dark Knight',\n",
       " 'Interstellar',\n",
       " 'The Imitation Game',\n",
       " 'Inside Out',\n",
       " 'Room',\n",
       " 'The Wolf of Wall Street',\n",
       " 'Gone Girl',\n",
       " '12 Years a Slave',\n",
       " 'Guardians of the Galaxy',\n",
       " 'The Lord of the Rings: The Return of the King',\n",
       " 'Memento',\n",
       " 'Inception',\n",
       " 'The Pianist',\n",
       " 'The Grand Budapest Hotel',\n",
       " 'Her',\n",
       " 'Spotlight',\n",
       " 'Big Hero 6',\n",
       " 'The Fault in Our Stars']"
      ]
     },
     "execution_count": 1092,
     "metadata": {},
     "output_type": "execute_result"
    }
   ],
   "source": [
    "list(data.sort_values(by=['vote_average'], ascending=False).reset_index()\\\n",
    "     .head(len(data)//100)['original_title'])\n",
    "# сортируем по рейтингу и выбираем 1/100 от исходных данных"
   ]
  },
  {
   "cell_type": "markdown",
   "metadata": {
    "colab_type": "text",
    "id": "MdXsUXbCVqAV"
   },
   "source": [
    "# 27. Какие актеры чаще всего снимаются в одном фильме вместе?\n"
   ]
  },
  {
   "cell_type": "code",
   "execution_count": 1093,
   "metadata": {},
   "outputs": [],
   "source": [
    "answers['27'] = '5. Daniel Radcliffe & Rupert Grint'\n",
    "#\"+\""
   ]
  },
  {
   "cell_type": "code",
   "execution_count": 1097,
   "metadata": {
    "scrolled": true
   },
   "outputs": [
    {
     "name": "stdout",
     "output_type": "stream",
     "text": [
      "Daniel Radcliffe & Rupert Grint\n"
     ]
    }
   ],
   "source": [
    "list_actors = list(Counter(data['cast'].str.split('|').sum()).keys())\n",
    "# получаем с помощью Counter список всех актеров\n",
    "result=pd.Series([0,0])\n",
    "\n",
    "for actor in list_actors:\n",
    "    data_actor = data[data.cast.str.contains(actor)] \n",
    "    # ограничиваем поиск связей только по фильмам, где снимался \"текущий\" актер\n",
    "    counter_actor = Counter((data_actor.cast.str.split('|').sum()))\n",
    "    counter_actor[actor] = 0  \n",
    "    # \"обнуляем\" значение пересечения актера с самим собой, оно будет минимальным в словаре\n",
    "    counter_s = pd.Series(counter_actor).sort_values()\n",
    "    if counter_s[-1] > result[1]:\n",
    "        result = counter_s[::len(counter_s)-1]\n",
    "    # выбираем max значение пересечения 2 актеров во всех фильмах среди всех актеров по ходу цикла \n",
    "    # выбираем 1 значение - min и последнее - max\n",
    "    \n",
    "# Создаем словарь в цикле: \n",
    "# каждый актер - ключ в словаре, \n",
    "# значения - вложенные словари, \n",
    "# их ключи - другие актеры, пересекающиеся в фильмах,\n",
    "# значение вложенных словарей - количество пересечений в фильмах\n",
    "\n",
    "print(result.index[0],'&',result.index[1])\n"
   ]
  },
  {
   "cell_type": "markdown",
   "metadata": {
    "colab_type": "text",
    "id": "4ymnxEVoVqAW"
   },
   "source": [
    "ВАРИАНТ 2"
   ]
  },
  {
   "cell_type": "code",
   "execution_count": 1098,
   "metadata": {},
   "outputs": [],
   "source": [
    "# О нет! Хоть режьте! =О"
   ]
  },
  {
   "cell_type": "markdown",
   "metadata": {
    "colab_type": "text",
    "id": "U0nONFnGVqAX"
   },
   "source": [
    "# Submission"
   ]
  },
  {
   "cell_type": "code",
   "execution_count": 1099,
   "metadata": {
    "colab": {},
    "colab_type": "code",
    "id": "IfcaRO9-VqAX",
    "outputId": "0f132912-32bb-4196-c98c-abfbc4ad5a5f"
   },
   "outputs": [
    {
     "data": {
      "text/plain": [
       "{'1': '5. Pirates of the Caribbean: On Stranger Tides (tt1298650)',\n",
       " '2': '2. Gods and Generals (tt0279111)',\n",
       " '3': '3. Winnie the Pooh (tt1449283)',\n",
       " '4': '2. 110',\n",
       " '5': '1. 107',\n",
       " '6': '5. Avatar (tt0499549)',\n",
       " '7': '5. The Lone Ranger (tt1210819)',\n",
       " '8': '1. 1478',\n",
       " '9': '4. The Dark Knight (tt0468569)',\n",
       " '10': '5. The Lone Ranger (tt1210819)',\n",
       " '11': '3. Drama',\n",
       " '12': '1. Drama',\n",
       " '13': '5. Peter Jackson',\n",
       " '14': '3. Robert Rodriguez',\n",
       " '15': '3. Chris Hemsworth',\n",
       " '16': '3. Matt Damon',\n",
       " '17': '3. Matt Damon',\n",
       " '18': '1. K-19: The Widowmaker (tt0267626)',\n",
       " '19': '5. 2015',\n",
       " '20': '1. 2014',\n",
       " '21': '4. Сентябрь',\n",
       " '22': '2. 450',\n",
       " '23': '5. Peter Jackson',\n",
       " '24': '5. Four By Two Productions',\n",
       " '25': '3. Midnight Picture Show',\n",
       " '26': '1. Inside Out, The Dark Knight, 12 Years a Slave',\n",
       " '27': '5. Daniel Radcliffe & Rupert Grint'}"
      ]
     },
     "execution_count": 1099,
     "metadata": {},
     "output_type": "execute_result"
    }
   ],
   "source": [
    "# в конце можно посмотреть свои ответы к каждому вопросу\n",
    "answers"
   ]
  },
  {
   "cell_type": "code",
   "execution_count": 1100,
   "metadata": {
    "colab": {},
    "colab_type": "code",
    "id": "SiRmHPl8VqAd"
   },
   "outputs": [
    {
     "data": {
      "text/plain": [
       "27"
      ]
     },
     "execution_count": 1100,
     "metadata": {},
     "output_type": "execute_result"
    }
   ],
   "source": [
    "# и убедиться что ни чего не пропустил)\n",
    "len(answers)"
   ]
  }
 ],
 "metadata": {
  "colab": {
   "name": "Copy of [SF-DST] Movies IMBD v4.1 TEMPLATE.ipynb",
   "provenance": []
  },
  "kernelspec": {
   "display_name": "Python 3",
   "language": "python",
   "name": "python3"
  },
  "language_info": {
   "codemirror_mode": {
    "name": "ipython",
    "version": 3
   },
   "file_extension": ".py",
   "mimetype": "text/x-python",
   "name": "python",
   "nbconvert_exporter": "python",
   "pygments_lexer": "ipython3",
   "version": "3.8.5"
  }
 },
 "nbformat": 4,
 "nbformat_minor": 1
}
