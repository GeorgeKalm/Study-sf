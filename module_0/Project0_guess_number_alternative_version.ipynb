{
 "cells": [
  {
   "cell_type": "code",
   "execution_count": 1,
   "metadata": {},
   "outputs": [
    {
     "name": "stdout",
     "output_type": "stream",
     "text": [
      "Ваш алгоритм угадывает число в среднем за 10 попыток\n"
     ]
    },
    {
     "data": {
      "text/plain": [
       "10"
      ]
     },
     "execution_count": 1,
     "metadata": {},
     "output_type": "execute_result"
    }
   ],
   "source": [
    "import numpy as np\n",
    "\n",
    "\n",
    "def score_game(game_core):\n",
    "    '''Запускаем игру 1000 раз, чтобы узнать, как быстро игра угадывает число'''\n",
    "    count_ls = []\n",
    "    np.random.seed(1)  # фиксируем RANDOM SEED, чтобы ваш эксперимент был воспроизводим!\n",
    "    random_array = np.random.randint(1,101, size=(1000))\n",
    "    for number in random_array:\n",
    "        count_ls.append(game_core(number))\n",
    "    score = int(np.mean(count_ls))\n",
    "    print(f\"Ваш алгоритм угадывает число в среднем за {score} попыток\")\n",
    "    return(score)\n",
    "\n",
    "\n",
    "def game_core_v3(number):\n",
    "    '''Сужаем диапазон поиска, если узнаем, что загаданное число \n",
    "    меньше или больше предполагаемого, а затем предполагаем число \n",
    "    с помощью функции randint().\n",
    "    Функция принимает загаданное число и возвращает число попыток'''\n",
    "    number_from,number_to = 1,100  #обозначаем диапазон для функции randint()\n",
    "    count = 1  #значение равно 1, так как первое предполагаемое число - 1\n",
    "    predict = 1\n",
    "    while number != predict:\n",
    "        predict = np.random.randint(number_from,number_to+1)  #предполагаем число, каждый проход цикла - новый диапазон\n",
    "        count+=1\n",
    "        if number > predict: \n",
    "            number_from = predict  #ограничиваем диапазон поиска снизу\n",
    "        elif number < predict: \n",
    "            number_to = predict  #ограничиваем диапазон поиска сверху\n",
    "    return(count) # выход из цикла, если угадали\n",
    "\n",
    "\n",
    "score_game(game_core_v3)"
   ]
  },
  {
   "cell_type": "code",
   "execution_count": null,
   "metadata": {},
   "outputs": [],
   "source": []
  }
 ],
 "metadata": {
  "kernelspec": {
   "display_name": "Python 3",
   "language": "python",
   "name": "python3"
  },
  "language_info": {
   "codemirror_mode": {
    "name": "ipython",
    "version": 3
   },
   "file_extension": ".py",
   "mimetype": "text/x-python",
   "name": "python",
   "nbconvert_exporter": "python",
   "pygments_lexer": "ipython3",
   "version": "3.8.5"
  }
 },
 "nbformat": 4,
 "nbformat_minor": 4
}
