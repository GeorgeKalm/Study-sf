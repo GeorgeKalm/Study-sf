{
 "cells": [
  {
   "cell_type": "code",
   "execution_count": 5,
   "metadata": {},
   "outputs": [
    {
     "name": "stdout",
     "output_type": "stream",
     "text": [
      "Ваш алгоритм угадывает число в среднем за 5 попыток\n"
     ]
    },
    {
     "data": {
      "text/plain": [
       "5"
      ]
     },
     "execution_count": 5,
     "metadata": {},
     "output_type": "execute_result"
    }
   ],
   "source": [
    "import numpy as np\n",
    "\n",
    "\n",
    "def score_game(game_core):\n",
    "    '''Запускаем игру 1000 раз, чтобы узнать, как быстро игра угадывает число'''\n",
    "    count_ls = []\n",
    "    np.random.seed(1)  # фиксируем RANDOM SEED, чтобы ваш эксперимент был воспроизводим!\n",
    "    random_array = np.random.randint(1,101, size=(1000))\n",
    "    for number in random_array:\n",
    "        count_ls.append(game_core(number))\n",
    "    score = int(np.mean(count_ls))\n",
    "    print(f\"Ваш алгоритм угадывает число в среднем за {score} попыток\")\n",
    "    return(score)\n",
    "\n",
    "\n",
    "def divide_range(lowerlimit,upperlimit):\n",
    "    '''Функция возвращает значение в середине диапазона, \n",
    "    2 арумента - начало и конец диапазона соответственно'''\n",
    "    return (lowerlimit+upperlimit) // 2\n",
    "\n",
    "\n",
    "def game_core_v4(number):\n",
    "    '''Сужаем диапазон поиска, если узнаем, что загаданное число \n",
    "    меньше или больше предполагаемого, а затем предполагаем число \n",
    "    в середине нового диапазона. \n",
    "    Функция принимает загаданное число и возвращает число попыток'''\n",
    "    number_from, number_to = 0,101  #расширяем диапазон для крайних значений\n",
    "    predict = 50\n",
    "    count = 1  #значение равно 1, так как первое предполагаемое число - 50\n",
    "    while number != predict:\n",
    "        count+=1\n",
    "        if  number > predict: \n",
    "            number_from = predict  #ограничиваем диапазон поиска снизу\n",
    "            predict = divide_range(number_from,number_to)\n",
    "        elif number < predict: \n",
    "            number_to = predict  #ограничиваем диапазон поиска сверху\n",
    "            predict = divide_range(number_from,number_to) \n",
    "    return(count)  # выход из цикла, если угадали\n",
    "\n",
    "\n",
    "score_game(game_core_v4)"
   ]
  },
  {
   "cell_type": "code",
   "execution_count": null,
   "metadata": {},
   "outputs": [],
   "source": []
  }
 ],
 "metadata": {
  "kernelspec": {
   "display_name": "Python 3",
   "language": "python",
   "name": "python3"
  },
  "language_info": {
   "codemirror_mode": {
    "name": "ipython",
    "version": 3
   },
   "file_extension": ".py",
   "mimetype": "text/x-python",
   "name": "python",
   "nbconvert_exporter": "python",
   "pygments_lexer": "ipython3",
   "version": "3.8.5"
  }
 },
 "nbformat": 4,
 "nbformat_minor": 4
}
